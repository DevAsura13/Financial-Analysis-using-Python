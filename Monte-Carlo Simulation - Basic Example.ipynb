{
 "cells": [
  {
   "cell_type": "code",
   "execution_count": 3,
   "id": "6cda6a22",
   "metadata": {},
   "outputs": [],
   "source": [
    "# Monte Carlo valutaion of an European Call Option in BSM Model."
   ]
  },
  {
   "cell_type": "code",
   "execution_count": 4,
   "id": "fac119c3",
   "metadata": {},
   "outputs": [],
   "source": [
    "# Importing Numpy library for mathematical operations on arrays.\n",
    "\n",
    "import numpy as np"
   ]
  },
  {
   "cell_type": "code",
   "execution_count": 5,
   "id": "d84f5b9f",
   "metadata": {},
   "outputs": [],
   "source": [
    "# Let us take an example of a European Call Option, with random parameter values.\n",
    "\n",
    "S0 = 100     # Spot rate today ie. index level\n",
    "K = 105      # Strike Price on t\n",
    "T = 1        # Time to maturity\n",
    "Rf = 0.05    # Risk free rate of interest\n",
    "sigma = 0.2  # Volatility"
   ]
  },
  {
   "cell_type": "code",
   "execution_count": 6,
   "id": "ae62bc9e",
   "metadata": {},
   "outputs": [],
   "source": [
    "# Number of simulations\n",
    "I = 100000"
   ]
  },
  {
   "cell_type": "code",
   "execution_count": 11,
   "id": "f1e5c189",
   "metadata": {},
   "outputs": [],
   "source": [
    "# Valuation Algorithm\n",
    "\n",
    "z = np.random.standard_normal(I) # pseudorandom numbers\n",
    "ST = S0*np.exp((Rf-0.5*sigma**2)*T + sigma*np.sqrt(T)*z)\n",
    "\n",
    "# Index values at maturity\n",
    "hT = np.maximum(ST-K,0) # inner values at Maturity\n",
    "C0 = np.exp(-Rf*T)*np.sum(hT)/I #Monte Carlo Estimator"
   ]
  },
  {
   "cell_type": "code",
   "execution_count": 19,
   "id": "861b146e",
   "metadata": {},
   "outputs": [
    {
     "name": "stdout",
     "output_type": "stream",
     "text": [
      "8.129756657205906\n"
     ]
    }
   ],
   "source": [
    "# Result Output\n",
    "\n",
    "print(C0)\n"
   ]
  },
  {
   "cell_type": "code",
   "execution_count": null,
   "id": "97b44611",
   "metadata": {},
   "outputs": [],
   "source": []
  }
 ],
 "metadata": {
  "kernelspec": {
   "display_name": "Python 3",
   "language": "python",
   "name": "python3"
  },
  "language_info": {
   "codemirror_mode": {
    "name": "ipython",
    "version": 3
   },
   "file_extension": ".py",
   "mimetype": "text/x-python",
   "name": "python",
   "nbconvert_exporter": "python",
   "pygments_lexer": "ipython3",
   "version": "3.8.8"
  }
 },
 "nbformat": 4,
 "nbformat_minor": 5
}
